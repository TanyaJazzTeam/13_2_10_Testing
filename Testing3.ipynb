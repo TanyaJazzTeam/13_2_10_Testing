{
 "cells": [
  {
   "cell_type": "markdown",
   "id": "792deae3",
   "metadata": {},
   "source": [
    "# Work1"
   ]
  },
  {
   "cell_type": "markdown",
   "id": "fe6e0e12",
   "metadata": {},
   "source": [
    "[BMW](https://autoidea.by/)"
   ]
  },
  {
   "cell_type": "markdown",
   "id": "7b68a58b",
   "metadata": {},
   "source": [
    "# Work2"
   ]
  },
  {
   "cell_type": "markdown",
   "id": "d758ddb6",
   "metadata": {},
   "source": [
    "[cité](https://www.citroen.by/)"
   ]
  },
  {
   "cell_type": "code",
   "execution_count": null,
   "id": "30724390",
   "metadata": {},
   "outputs": [],
   "source": []
  }
 ],
 "metadata": {
  "kernelspec": {
   "display_name": "Python 3",
   "language": "python",
   "name": "python3"
  },
  "language_info": {
   "codemirror_mode": {
    "name": "ipython",
    "version": 3
   },
   "file_extension": ".py",
   "mimetype": "text/x-python",
   "name": "python",
   "nbconvert_exporter": "python",
   "pygments_lexer": "ipython3",
   "version": "3.8.8"
  }
 },
 "nbformat": 4,
 "nbformat_minor": 5
}
